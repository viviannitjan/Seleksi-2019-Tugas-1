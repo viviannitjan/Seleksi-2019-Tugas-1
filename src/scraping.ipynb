{
 "cells": [
  {
   "cell_type": "code",
   "execution_count": 1,
   "metadata": {},
   "outputs": [],
   "source": [
    "#import lib\n",
    "from bs4 import BeautifulSoup as bs\n",
    "import requests\n",
    "import urllib.request\n",
    "import time\n",
    "import json"
   ]
  },
  {
   "cell_type": "code",
   "execution_count": 2,
   "metadata": {},
   "outputs": [],
   "source": [
    "#to append url with specific years\n",
    "def append_url(url,tahun):\n",
    "    url = url + tahun\n",
    "    return url"
   ]
  },
  {
   "cell_type": "code",
   "execution_count": 3,
   "metadata": {},
   "outputs": [],
   "source": [
    "#to get content of web\n",
    "def get_web_content(url):\n",
    "    headers = {'user-agent' : 'Mozilla/5.0 (X11; Linux x86_64); Vivianni/19vivianni@gmail.com'}\n",
    "    r = requests.get(url, headers=headers) \n",
    "    while r.status_code != 200:\n",
    "        r = requests.get(url, headers=headers) \n",
    "    soup = bs(r.content, 'html5lib') \n",
    "    table = soup.find_all('table')\n",
    "    table = table[0]\n",
    "    return table"
   ]
  },
  {
   "cell_type": "code",
   "execution_count": 4,
   "metadata": {},
   "outputs": [],
   "source": [
    "#to get header of the web content\n",
    "def get_header(table):\n",
    "    data_row=['Tahun']\n",
    "    for header in table.find_all('th'):\n",
    "        data_row.append(header.get_text())\n",
    "    return data_row"
   ]
  },
  {
   "cell_type": "code",
   "execution_count": 5,
   "metadata": {},
   "outputs": [],
   "source": [
    "#to get table data from web content\n",
    "def get_data(table,data,tahun):\n",
    "    for row in table.find_all('tr'):\n",
    "        data_row=[tahun]\n",
    "        for cell in row.find_all('td'):\n",
    "            data_row.append(cell.get_text())\n",
    "        if (len(data_row)==1): #pass header\n",
    "            pass\n",
    "        else :\n",
    "            data.append(data_row)\n",
    "    return data"
   ]
  },
  {
   "cell_type": "code",
   "execution_count": 6,
   "metadata": {},
   "outputs": [],
   "source": [
    "def content(url):\n",
    "    data = []\n",
    "    for i in range (2010,2019):\n",
    "        URL = append_url(url, str(i))\n",
    "        table = get_web_content(URL)\n",
    "        data = get_data(table,data,str(i))\n",
    "        time.sleep(1)\n",
    "    \n",
    "    #get the header\n",
    "    header = get_header(table)\n",
    "    \n",
    "    #convert to dict\n",
    "    final = []\n",
    "    for i in range (0,len(data)):\n",
    "        final.append(dict([(header[j],data[i][j]) for j in range (0,len(data[0]))]))\n",
    "    return final"
   ]
  },
  {
   "cell_type": "code",
   "execution_count": 7,
   "metadata": {},
   "outputs": [],
   "source": [
    "#main\n",
    "URL_expor = \"https://www.bps.go.id/tabel/tblbln-frameee.php?sumber1=1&thn1=\"\n",
    "URL_impor = \"https://www.bps.go.id/tabel/tblbln-frameee.php?sumber1=2&thn1=\"\n",
    "expor = content(URL_expor)\n",
    "impor = content(URL_impor)"
   ]
  },
  {
   "cell_type": "code",
   "execution_count": 8,
   "metadata": {},
   "outputs": [],
   "source": [
    "# remove total from table\n",
    "for data in expor:\n",
    "    if (data['Bulan/Month']=='T  O  T  A  L'):\n",
    "        expor.remove(data)\n",
    "for data in impor:\n",
    "    if (data['Bulan/Month']=='T  O  T  A  L'):\n",
    "        impor.remove(data)"
   ]
  },
  {
   "cell_type": "code",
   "execution_count": 9,
   "metadata": {},
   "outputs": [],
   "source": [
    "#to save data in json format in data directory\n",
    "with open('../data/export.json', 'w') as json_file:  \n",
    "    json.dump(expor, json_file)\n",
    "\n",
    "with open('../data/import.json', 'w') as json_file:  \n",
    "    json.dump(impor, json_file)"
   ]
  }
 ],
 "metadata": {
  "kernelspec": {
   "display_name": "Python 3",
   "language": "python",
   "name": "python3"
  },
  "language_info": {
   "codemirror_mode": {
    "name": "ipython",
    "version": 3
   },
   "file_extension": ".py",
   "mimetype": "text/x-python",
   "name": "python",
   "nbconvert_exporter": "python",
   "pygments_lexer": "ipython3",
   "version": "3.7.3"
  }
 },
 "nbformat": 4,
 "nbformat_minor": 2
}
